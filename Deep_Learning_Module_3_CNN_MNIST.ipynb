{
 "cells": [
  {
   "cell_type": "markdown",
   "metadata": {},
   "source": [
    "# Convolutional Neural Netowkrs (CNN) : Classify handwritten digits Using MNIST Dataset"
   ]
  },
  {
   "cell_type": "markdown",
   "metadata": {},
   "source": [
    "## 1. Prepare & Explore Dataset"
   ]
  },
  {
   "cell_type": "code",
   "execution_count": 1,
   "metadata": {},
   "outputs": [],
   "source": [
    "# import pachages \n",
    "from tensorflow import keras \n",
    "from keras.datasets import mnist\n",
    "from keras.models import Sequential\n",
    "from keras.layers import Dense, Activation\n",
    "from keras.layers import Convolution2D, MaxPooling2D\n",
    "from keras.layers import Flatten\n",
    "from keras.utils import np_utils "
   ]
  },
  {
   "cell_type": "code",
   "execution_count": 11,
   "metadata": {},
   "outputs": [],
   "source": [
    "# load the training and testing data. \n",
    "# (X_train, Y_train) are the training images and labels, \n",
    "# (X_test, Y_test) are the test images and labels\n",
    "# Since we'll be using convolutional layers, we can reshape the input in 28x28 patches\n",
    "\n",
    "(X_train, Y_train), (X_test, Y_test) = mnist.load_data()\n",
    "X_train = X_train.reshape(60000, 28, 28, 1)\n",
    "X_test = X_test.reshape(10000, 28, 28, 1)"
   ]
  },
  {
   "cell_type": "code",
   "execution_count": 12,
   "metadata": {},
   "outputs": [],
   "source": [
    "# The labels indicate the value of the digit depicted in the images. \n",
    "# We want to convert this into a 10-entry encoded vector comprised of 0s and 1 in the entry corresponding to the digit. \n",
    "# For example, 4 is mapped to [0, 0, 0, 0, 1, 0, 0, 0, 0, 0] \n",
    "# Conversely, our network will have 10 output neurons\n",
    "\n",
    "classes = 10 \n",
    "Y_train = np_utils.to_categorical(Y_train, classes)      \n",
    "Y_test = np_utils.to_categorical(Y_test, classes) "
   ]
  },
  {
   "cell_type": "markdown",
   "metadata": {},
   "source": [
    "## 2. Define the neural network architecture"
   ]
  },
  {
   "cell_type": "code",
   "execution_count": 13,
   "metadata": {},
   "outputs": [
    {
     "name": "stdout",
     "output_type": "stream",
     "text": [
      "Model: \"sequential_1\"\n",
      "_________________________________________________________________\n",
      "Layer (type)                 Output Shape              Param #   \n",
      "=================================================================\n",
      "conv2d_2 (Conv2D)            (None, 26, 26, 32)        320       \n",
      "_________________________________________________________________\n",
      "activation_4 (Activation)    (None, 26, 26, 32)        0         \n",
      "_________________________________________________________________\n",
      "conv2d_3 (Conv2D)            (None, 24, 24, 32)        9248      \n",
      "_________________________________________________________________\n",
      "activation_5 (Activation)    (None, 24, 24, 32)        0         \n",
      "_________________________________________________________________\n",
      "max_pooling2d_1 (MaxPooling2 (None, 12, 12, 32)        0         \n",
      "_________________________________________________________________\n",
      "flatten_1 (Flatten)          (None, 4608)              0         \n",
      "_________________________________________________________________\n",
      "dense_2 (Dense)              (None, 64)                294976    \n",
      "_________________________________________________________________\n",
      "activation_6 (Activation)    (None, 64)                0         \n",
      "_________________________________________________________________\n",
      "dense_3 (Dense)              (None, 10)                650       \n",
      "_________________________________________________________________\n",
      "activation_7 (Activation)    (None, 10)                0         \n",
      "=================================================================\n",
      "Total params: 305,194\n",
      "Trainable params: 305,194\n",
      "Non-trainable params: 0\n",
      "_________________________________________________________________\n",
      "None\n"
     ]
    }
   ],
   "source": [
    "# define the CNN model\n",
    "\n",
    "model = Sequential([\n",
    "    Convolution2D(filters=32,\n",
    "                  kernel_size=(3, 3),\n",
    "                  input_shape=(28, 28, 1)),  # first conv layer\n",
    "    Activation('relu'),\n",
    "    Convolution2D(filters=32,\n",
    "                  kernel_size=(3, 3)),  # second conv layer\n",
    "    Activation('relu'),\n",
    "    MaxPooling2D(pool_size=(2, 2)),  # max pooling layer\n",
    "    Flatten(),  # flatten the output tensor\n",
    "    Dense(64),  # fully-connected hidden layer\n",
    "    Activation('relu'),\n",
    "    Dense(10),  # output layer\n",
    "    Activation('softmax')])\n",
    "\n",
    "print(model.summary())"
   ]
  },
  {
   "cell_type": "markdown",
   "metadata": {},
   "source": [
    "## 3. Compile the neural net"
   ]
  },
  {
   "cell_type": "code",
   "execution_count": 14,
   "metadata": {},
   "outputs": [],
   "source": [
    "# compile your model\n",
    "model.compile(loss='categorical_crossentropy', metrics=['accuracy'], optimizer='adadelta')"
   ]
  },
  {
   "cell_type": "markdown",
   "metadata": {},
   "source": [
    "## 4. Fit / train the neural net"
   ]
  },
  {
   "cell_type": "code",
   "execution_count": 15,
   "metadata": {},
   "outputs": [
    {
     "name": "stdout",
     "output_type": "stream",
     "text": [
      "Epoch 1/5\n",
      "540/540 [==============================] - 28s 51ms/step - loss: 17.8101 - accuracy: 0.1313 - val_loss: 7.3491 - val_accuracy: 0.2362\n",
      "Epoch 2/5\n",
      "540/540 [==============================] - 27s 51ms/step - loss: 6.3888 - accuracy: 0.2858 - val_loss: 3.6013 - val_accuracy: 0.4280\n",
      "Epoch 3/5\n",
      "540/540 [==============================] - 28s 51ms/step - loss: 3.4276 - accuracy: 0.4512 - val_loss: 2.2953 - val_accuracy: 0.5620\n",
      "Epoch 4/5\n",
      "540/540 [==============================] - 29s 53ms/step - loss: 2.3581 - accuracy: 0.5546 - val_loss: 1.6957 - val_accuracy: 0.6443\n",
      "Epoch 5/5\n",
      "540/540 [==============================] - 27s 50ms/step - loss: 1.8274 - accuracy: 0.6263 - val_loss: 1.3519 - val_accuracy: 0.6970\n"
     ]
    },
    {
     "data": {
      "text/plain": [
       "<tensorflow.python.keras.callbacks.History at 0x1aac526ed00>"
      ]
     },
     "execution_count": 15,
     "metadata": {},
     "output_type": "execute_result"
    }
   ],
   "source": [
    "#train your model\n",
    "model.fit(X_train, Y_train, batch_size=100, epochs=5, validation_split=0.1, verbose=1)"
   ]
  },
  {
   "cell_type": "markdown",
   "metadata": {},
   "source": [
    "## 5. Evaluate the neural net"
   ]
  },
  {
   "cell_type": "code",
   "execution_count": 16,
   "metadata": {},
   "outputs": [
    {
     "name": "stdout",
     "output_type": "stream",
     "text": [
      "313/313 [==============================] - 2s 7ms/step - loss: 1.5257 - accuracy: 0.6705\n",
      "Test accuracy: 0.6704999804496765\n"
     ]
    }
   ],
   "source": [
    "score = model.evaluate(X_test, Y_test, verbose=1) \n",
    "print('Test accuracy:', score[1]) "
   ]
  },
  {
   "cell_type": "markdown",
   "metadata": {},
   "source": [
    "## 6. Make predictions / classifications for unseen data"
   ]
  },
  {
   "cell_type": "code",
   "execution_count": null,
   "metadata": {},
   "outputs": [],
   "source": [
    "#not yet until we enhanced the results\n",
    "predictions = model.predict(X_test)\n",
    "predictions"
   ]
  },
  {
   "cell_type": "markdown",
   "metadata": {},
   "source": [
    "<hr>"
   ]
  }
 ],
 "metadata": {
  "kernelspec": {
   "display_name": "Python 3",
   "language": "python",
   "name": "python3"
  },
  "language_info": {
   "codemirror_mode": {
    "name": "ipython",
    "version": 3
   },
   "file_extension": ".py",
   "mimetype": "text/x-python",
   "name": "python",
   "nbconvert_exporter": "python",
   "pygments_lexer": "ipython3",
   "version": "3.8.5"
  }
 },
 "nbformat": 4,
 "nbformat_minor": 4
}
