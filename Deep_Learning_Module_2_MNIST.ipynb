{
 "cells": [
  {
   "cell_type": "markdown",
   "metadata": {},
   "source": [
    "# Using Keras to classify handwritten digits Using MNIST Dataset"
   ]
  },
  {
   "cell_type": "markdown",
   "metadata": {},
   "source": [
    "## 1. Prepare & Explore Dataset"
   ]
  },
  {
   "cell_type": "code",
   "execution_count": 1,
   "metadata": {},
   "outputs": [],
   "source": [
    "import numpy as np\n",
    "import pandas as pd"
   ]
  },
  {
   "cell_type": "code",
   "execution_count": 2,
   "metadata": {},
   "outputs": [],
   "source": [
    "# import pachages \n",
    "from tensorflow import keras \n",
    "from keras.datasets import mnist \n",
    "from tensorflow.keras.models import Sequential  \n",
    "from tensorflow.keras.layers import Dense, Activation \n",
    "from keras.utils import np_utils "
   ]
  },
  {
   "cell_type": "code",
   "execution_count": 3,
   "metadata": {},
   "outputs": [],
   "source": [
    "# load the training and testing data. \n",
    "# (X_train, Y_train) are the training images and labels, \n",
    "# (X_test, Y_test) are the test images and labels\n",
    "\n",
    "(X_train, Y_train), (X_test, Y_test) = mnist.load_data()"
   ]
  },
  {
   "cell_type": "code",
   "execution_count": 4,
   "metadata": {},
   "outputs": [
    {
     "data": {
      "text/plain": [
       "((60000, 28, 28), (60000,))"
      ]
     },
     "execution_count": 4,
     "metadata": {},
     "output_type": "execute_result"
    }
   ],
   "source": [
    "X_train.shape, Y_train.shape"
   ]
  },
  {
   "cell_type": "code",
   "execution_count": 5,
   "metadata": {},
   "outputs": [
    {
     "data": {
      "text/plain": [
       "((10000, 28, 28), (10000,))"
      ]
     },
     "execution_count": 5,
     "metadata": {},
     "output_type": "execute_result"
    }
   ],
   "source": [
    "X_test.shape, Y_test.shape"
   ]
  },
  {
   "cell_type": "code",
   "execution_count": 8,
   "metadata": {},
   "outputs": [
    {
     "data": {
      "text/plain": [
       "(array([[[0, 0, 0, ..., 0, 0, 0],\n",
       "         [0, 0, 0, ..., 0, 0, 0],\n",
       "         [0, 0, 0, ..., 0, 0, 0],\n",
       "         ...,\n",
       "         [0, 0, 0, ..., 0, 0, 0],\n",
       "         [0, 0, 0, ..., 0, 0, 0],\n",
       "         [0, 0, 0, ..., 0, 0, 0]],\n",
       " \n",
       "        [[0, 0, 0, ..., 0, 0, 0],\n",
       "         [0, 0, 0, ..., 0, 0, 0],\n",
       "         [0, 0, 0, ..., 0, 0, 0],\n",
       "         ...,\n",
       "         [0, 0, 0, ..., 0, 0, 0],\n",
       "         [0, 0, 0, ..., 0, 0, 0],\n",
       "         [0, 0, 0, ..., 0, 0, 0]],\n",
       " \n",
       "        [[0, 0, 0, ..., 0, 0, 0],\n",
       "         [0, 0, 0, ..., 0, 0, 0],\n",
       "         [0, 0, 0, ..., 0, 0, 0],\n",
       "         ...,\n",
       "         [0, 0, 0, ..., 0, 0, 0],\n",
       "         [0, 0, 0, ..., 0, 0, 0],\n",
       "         [0, 0, 0, ..., 0, 0, 0]],\n",
       " \n",
       "        ...,\n",
       " \n",
       "        [[0, 0, 0, ..., 0, 0, 0],\n",
       "         [0, 0, 0, ..., 0, 0, 0],\n",
       "         [0, 0, 0, ..., 0, 0, 0],\n",
       "         ...,\n",
       "         [0, 0, 0, ..., 0, 0, 0],\n",
       "         [0, 0, 0, ..., 0, 0, 0],\n",
       "         [0, 0, 0, ..., 0, 0, 0]],\n",
       " \n",
       "        [[0, 0, 0, ..., 0, 0, 0],\n",
       "         [0, 0, 0, ..., 0, 0, 0],\n",
       "         [0, 0, 0, ..., 0, 0, 0],\n",
       "         ...,\n",
       "         [0, 0, 0, ..., 0, 0, 0],\n",
       "         [0, 0, 0, ..., 0, 0, 0],\n",
       "         [0, 0, 0, ..., 0, 0, 0]],\n",
       " \n",
       "        [[0, 0, 0, ..., 0, 0, 0],\n",
       "         [0, 0, 0, ..., 0, 0, 0],\n",
       "         [0, 0, 0, ..., 0, 0, 0],\n",
       "         ...,\n",
       "         [0, 0, 0, ..., 0, 0, 0],\n",
       "         [0, 0, 0, ..., 0, 0, 0],\n",
       "         [0, 0, 0, ..., 0, 0, 0]]], dtype=uint8),\n",
       " array([5, 0, 4, ..., 5, 6, 8], dtype=uint8))"
      ]
     },
     "execution_count": 8,
     "metadata": {},
     "output_type": "execute_result"
    }
   ],
   "source": [
    "X_train, Y_train"
   ]
  },
  {
   "cell_type": "code",
   "execution_count": null,
   "metadata": {},
   "outputs": [],
   "source": [
    "X_test, Y_test"
   ]
  },
  {
   "cell_type": "code",
   "execution_count": 9,
   "metadata": {},
   "outputs": [],
   "source": [
    "# We need to modify the data to be able to use it. X_train contains 60,000 28 x 28 pixel images, and X_test contains 10,000.\n",
    "# To feed them to the network as inputs, we want to reshape each sample as a 784-pixel array, \n",
    "## rather than a (28,28) 2-dimensional matrix. \n",
    "# We can accomplish this with these two lines:\n",
    "\n",
    "X_train = X_train.reshape(60000, 784)      \n",
    "X_test = X_test.reshape(10000, 784) "
   ]
  },
  {
   "cell_type": "code",
   "execution_count": 10,
   "metadata": {},
   "outputs": [
    {
     "data": {
      "text/plain": [
       "(array([[0, 0, 0, ..., 0, 0, 0],\n",
       "        [0, 0, 0, ..., 0, 0, 0],\n",
       "        [0, 0, 0, ..., 0, 0, 0],\n",
       "        ...,\n",
       "        [0, 0, 0, ..., 0, 0, 0],\n",
       "        [0, 0, 0, ..., 0, 0, 0],\n",
       "        [0, 0, 0, ..., 0, 0, 0]], dtype=uint8),\n",
       " (60000, 784))"
      ]
     },
     "execution_count": 10,
     "metadata": {},
     "output_type": "execute_result"
    }
   ],
   "source": [
    "X_train, X_train.shape"
   ]
  },
  {
   "cell_type": "code",
   "execution_count": 11,
   "metadata": {},
   "outputs": [
    {
     "data": {
      "text/plain": [
       "(array([[0, 0, 0, ..., 0, 0, 0],\n",
       "        [0, 0, 0, ..., 0, 0, 0],\n",
       "        [0, 0, 0, ..., 0, 0, 0],\n",
       "        ...,\n",
       "        [0, 0, 0, ..., 0, 0, 0],\n",
       "        [0, 0, 0, ..., 0, 0, 0],\n",
       "        [0, 0, 0, ..., 0, 0, 0]], dtype=uint8),\n",
       " (10000, 784))"
      ]
     },
     "execution_count": 11,
     "metadata": {},
     "output_type": "execute_result"
    }
   ],
   "source": [
    "X_test, X_test.shape"
   ]
  },
  {
   "cell_type": "code",
   "execution_count": 12,
   "metadata": {},
   "outputs": [],
   "source": [
    "# The labels indicate the value of the digit depicted in the images. \n",
    "# We want to convert this into a 10-entry encoded vector comprised of 0s and 1 in the entry corresponding to the digit. \n",
    "# For example, 4 is mapped to [0, 0, 0, 0, 1, 0, 0, 0, 0, 0] \n",
    "# Conversely, our network will have 10 output neurons\n",
    "\n",
    "classes = 10 \n",
    "Y_train = np_utils.to_categorical(Y_train, classes)      \n",
    "Y_test = np_utils.to_categorical(Y_test, classes) "
   ]
  },
  {
   "cell_type": "code",
   "execution_count": 13,
   "metadata": {},
   "outputs": [
    {
     "data": {
      "text/plain": [
       "(array([[0., 0., 0., ..., 0., 0., 0.],\n",
       "        [1., 0., 0., ..., 0., 0., 0.],\n",
       "        [0., 0., 0., ..., 0., 0., 0.],\n",
       "        ...,\n",
       "        [0., 0., 0., ..., 0., 0., 0.],\n",
       "        [0., 0., 0., ..., 0., 0., 0.],\n",
       "        [0., 0., 0., ..., 0., 1., 0.]], dtype=float32),\n",
       " array([[0., 0., 0., ..., 1., 0., 0.],\n",
       "        [0., 0., 1., ..., 0., 0., 0.],\n",
       "        [0., 1., 0., ..., 0., 0., 0.],\n",
       "        ...,\n",
       "        [0., 0., 0., ..., 0., 0., 0.],\n",
       "        [0., 0., 0., ..., 0., 0., 0.],\n",
       "        [0., 0., 0., ..., 0., 0., 0.]], dtype=float32))"
      ]
     },
     "execution_count": 13,
     "metadata": {},
     "output_type": "execute_result"
    }
   ],
   "source": [
    "Y_train, Y_test"
   ]
  },
  {
   "cell_type": "markdown",
   "metadata": {},
   "source": [
    "## 2. Define the neural network architecture"
   ]
  },
  {
   "cell_type": "code",
   "execution_count": 14,
   "metadata": {},
   "outputs": [],
   "source": [
    "# Before calling our main function, we need to set :\n",
    "## the size of the input layer (the size of the MNIST images), \n",
    "## the number of hidden neurons, \n",
    "## the number of epochs to train the network, \n",
    "## the mini batch size:\n",
    "\n",
    "input_size = 784 \n",
    "batch_size = 100      \n",
    "hidden_neurons = 100      \n",
    "epochs = 100"
   ]
  },
  {
   "cell_type": "code",
   "execution_count": 15,
   "metadata": {},
   "outputs": [],
   "source": [
    "model = Sequential([\n",
    "    Dense(hidden_neurons, input_dim=input_size),\n",
    "    Activation('sigmoid'),\n",
    "    Dense(classes),\n",
    "    Activation('softmax')\n",
    "]) "
   ]
  },
  {
   "cell_type": "markdown",
   "metadata": {},
   "source": [
    "## 3. Compile the neural net"
   ]
  },
  {
   "cell_type": "code",
   "execution_count": 16,
   "metadata": {},
   "outputs": [],
   "source": [
    "model.compile(loss='categorical_crossentropy', metrics=['accuracy'], optimizer='sgd')"
   ]
  },
  {
   "cell_type": "code",
   "execution_count": 17,
   "metadata": {},
   "outputs": [
    {
     "data": {
      "image/png": "[encoded data removed]",
      "text/plain": [
       "<IPython.core.display.Image object>"
      ]
     },
     "execution_count": 17,
     "metadata": {},
     "output_type": "execute_result"
    }
   ],
   "source": [
    "keras.utils.plot_model(model, show_shapes=True, rankdir=\"LR\")"
   ]
  },
  {
   "cell_type": "markdown",
   "metadata": {},
   "source": [
    "## 4. Fit / train the neural net"
   ]
  },
  {
   "cell_type": "code",
   "execution_count": 18,
   "metadata": {},
   "outputs": [
    {
     "name": "stdout",
     "output_type": "stream",
     "text": [
      "Epoch 1/100\n",
      "600/600 [==============================] - 1s 751us/step - loss: 1.3342 - accuracy: 0.6196\n",
      "Epoch 2/100\n",
      "600/600 [==============================] - 0s 748us/step - loss: 0.5282 - accuracy: 0.8755\n",
      "Epoch 3/100\n",
      "600/600 [==============================] - 0s 735us/step - loss: 0.4050 - accuracy: 0.8965\n",
      "Epoch 4/100\n",
      "600/600 [==============================] - 1s 882us/step - loss: 0.3542 - accuracy: 0.9077\n",
      "Epoch 5/100\n",
      "600/600 [==============================] - 1s 951us/step - loss: 0.3207 - accuracy: 0.9150\n",
      "Epoch 6/100\n",
      "600/600 [==============================] - 1s 921us/step - loss: 0.2958 - accuracy: 0.9209\n",
      "Epoch 7/100\n",
      "600/600 [==============================] - 1s 881us/step - loss: 0.2796 - accuracy: 0.9253\n",
      "Epoch 8/100\n",
      "600/600 [==============================] - 1s 882us/step - loss: 0.2650 - accuracy: 0.9274\n",
      "Epoch 9/100\n",
      "600/600 [==============================] - 0s 814us/step - loss: 0.2540 - accuracy: 0.9316\n",
      "Epoch 10/100\n",
      "600/600 [==============================] - 0s 738us/step - loss: 0.2443 - accuracy: 0.9323\n",
      "Epoch 11/100\n",
      "600/600 [==============================] - 0s 733us/step - loss: 0.2338 - accuracy: 0.9368\n",
      "Epoch 12/100\n",
      "600/600 [==============================] - 1s 953us/step - loss: 0.2214 - accuracy: 0.9402\n",
      "Epoch 13/100\n",
      "600/600 [==============================] - 1s 859us/step - loss: 0.2134 - accuracy: 0.9403\n",
      "Epoch 14/100\n",
      "600/600 [==============================] - 1s 929us/step - loss: 0.2074 - accuracy: 0.9441\n",
      "Epoch 15/100\n",
      "600/600 [==============================] - 1s 898us/step - loss: 0.2070 - accuracy: 0.9420\n",
      "Epoch 16/100\n",
      "600/600 [==============================] - 1s 920us/step - loss: 0.1992 - accuracy: 0.9468\n",
      "Epoch 17/100\n",
      "600/600 [==============================] - 1s 848us/step - loss: 0.1964 - accuracy: 0.9466\n",
      "Epoch 18/100\n",
      "600/600 [==============================] - 1s 896us/step - loss: 0.1864 - accuracy: 0.9480\n",
      "Epoch 19/100\n",
      "600/600 [==============================] - 1s 895us/step - loss: 0.1816 - accuracy: 0.9501\n",
      "Epoch 20/100\n",
      "600/600 [==============================] - 1s 868us/step - loss: 0.1798 - accuracy: 0.9505\n",
      "Epoch 21/100\n",
      "600/600 [==============================] - 0s 816us/step - loss: 0.1785 - accuracy: 0.9516\n",
      "Epoch 22/100\n",
      "600/600 [==============================] - 1s 882us/step - loss: 0.1730 - accuracy: 0.9510\n",
      "Epoch 23/100\n",
      "600/600 [==============================] - 1s 893us/step - loss: 0.1649 - accuracy: 0.9549\n",
      "Epoch 24/100\n",
      "600/600 [==============================] - 1s 875us/step - loss: 0.1644 - accuracy: 0.9534\n",
      "Epoch 25/100\n",
      "600/600 [==============================] - 1s 849us/step - loss: 0.1625 - accuracy: 0.9563\n",
      "Epoch 26/100\n",
      "600/600 [==============================] - 1s 964us/step - loss: 0.1620 - accuracy: 0.9560\n",
      "Epoch 27/100\n",
      "600/600 [==============================] - 1s 931us/step - loss: 0.1545 - accuracy: 0.9574\n",
      "Epoch 28/100\n",
      "600/600 [==============================] - 1s 860us/step - loss: 0.1518 - accuracy: 0.9577\n",
      "Epoch 29/100\n",
      "600/600 [==============================] - 1s 913us/step - loss: 0.1504 - accuracy: 0.9585\n",
      "Epoch 30/100\n",
      "600/600 [==============================] - 1s 895us/step - loss: 0.1467 - accuracy: 0.9604\n",
      "Epoch 31/100\n",
      "600/600 [==============================] - 1s 910us/step - loss: 0.1446 - accuracy: 0.9594\n",
      "Epoch 32/100\n",
      "600/600 [==============================] - 1s 848us/step - loss: 0.1396 - accuracy: 0.9603\n",
      "Epoch 33/100\n",
      "600/600 [==============================] - 1s 872us/step - loss: 0.1406 - accuracy: 0.9624\n",
      "Epoch 34/100\n",
      "600/600 [==============================] - 1s 931us/step - loss: 0.1402 - accuracy: 0.9613\n",
      "Epoch 35/100\n",
      "600/600 [==============================] - 1s 946us/step - loss: 0.1352 - accuracy: 0.9629\n",
      "Epoch 36/100\n",
      "600/600 [==============================] - 1s 889us/step - loss: 0.1330 - accuracy: 0.9638\n",
      "Epoch 37/100\n",
      "600/600 [==============================] - 1s 915us/step - loss: 0.1284 - accuracy: 0.9654\n",
      "Epoch 38/100\n",
      "600/600 [==============================] - 1s 945us/step - loss: 0.1277 - accuracy: 0.9653\n",
      "Epoch 39/100\n",
      "600/600 [==============================] - 1s 868us/step - loss: 0.1281 - accuracy: 0.9653\n",
      "Epoch 40/100\n",
      "600/600 [==============================] - 0s 769us/step - loss: 0.1290 - accuracy: 0.9651\n",
      "Epoch 41/100\n",
      "600/600 [==============================] - 0s 781us/step - loss: 0.1263 - accuracy: 0.9639\n",
      "Epoch 42/100\n",
      "600/600 [==============================] - 0s 789us/step - loss: 0.1236 - accuracy: 0.9648\n",
      "Epoch 43/100\n",
      "600/600 [==============================] - 0s 786us/step - loss: 0.1245 - accuracy: 0.9659\n",
      "Epoch 44/100\n",
      "600/600 [==============================] - 0s 741us/step - loss: 0.1182 - accuracy: 0.9673\n",
      "Epoch 45/100\n",
      "600/600 [==============================] - 0s 771us/step - loss: 0.1249 - accuracy: 0.9660\n",
      "Epoch 46/100\n",
      "600/600 [==============================] - 0s 754us/step - loss: 0.1168 - accuracy: 0.9680\n",
      "Epoch 47/100\n",
      "600/600 [==============================] - 0s 798us/step - loss: 0.1169 - accuracy: 0.9670\n",
      "Epoch 48/100\n",
      "600/600 [==============================] - 0s 792us/step - loss: 0.1156 - accuracy: 0.9686\n",
      "Epoch 49/100\n",
      "600/600 [==============================] - 0s 798us/step - loss: 0.1168 - accuracy: 0.9677\n",
      "Epoch 50/100\n",
      "600/600 [==============================] - 0s 758us/step - loss: 0.1091 - accuracy: 0.9703\n",
      "Epoch 51/100\n",
      "600/600 [==============================] - 0s 750us/step - loss: 0.1089 - accuracy: 0.9715\n",
      "Epoch 52/100\n",
      "600/600 [==============================] - 0s 760us/step - loss: 0.1094 - accuracy: 0.9696\n",
      "Epoch 53/100\n",
      "600/600 [==============================] - 0s 752us/step - loss: 0.1125 - accuracy: 0.9702\n",
      "Epoch 54/100\n",
      "600/600 [==============================] - 0s 755us/step - loss: 0.1090 - accuracy: 0.9697\n",
      "Epoch 55/100\n",
      "600/600 [==============================] - 0s 772us/step - loss: 0.1077 - accuracy: 0.9713\n",
      "Epoch 56/100\n",
      "600/600 [==============================] - 0s 781us/step - loss: 0.1083 - accuracy: 0.9702\n",
      "Epoch 57/100\n",
      "600/600 [==============================] - 0s 771us/step - loss: 0.1042 - accuracy: 0.9705\n",
      "Epoch 58/100\n",
      "600/600 [==============================] - 0s 813us/step - loss: 0.1026 - accuracy: 0.9713\n",
      "Epoch 59/100\n",
      "600/600 [==============================] - 0s 767us/step - loss: 0.1009 - accuracy: 0.9725\n",
      "Epoch 60/100\n",
      "600/600 [==============================] - 0s 765us/step - loss: 0.1029 - accuracy: 0.9722\n",
      "Epoch 61/100\n",
      "600/600 [==============================] - 0s 756us/step - loss: 0.1047 - accuracy: 0.9710\n",
      "Epoch 62/100\n",
      "600/600 [==============================] - 0s 762us/step - loss: 0.1013 - accuracy: 0.9727\n",
      "Epoch 63/100\n",
      "600/600 [==============================] - 0s 768us/step - loss: 0.0980 - accuracy: 0.9742\n",
      "Epoch 64/100\n",
      "600/600 [==============================] - 0s 767us/step - loss: 0.0954 - accuracy: 0.9736\n",
      "Epoch 65/100\n",
      "600/600 [==============================] - 0s 762us/step - loss: 0.0917 - accuracy: 0.9752\n",
      "Epoch 66/100\n",
      "600/600 [==============================] - 0s 776us/step - loss: 0.0971 - accuracy: 0.9747\n",
      "Epoch 67/100\n",
      "600/600 [==============================] - 0s 764us/step - loss: 0.0947 - accuracy: 0.9755\n",
      "Epoch 68/100\n",
      "600/600 [==============================] - 0s 769us/step - loss: 0.0941 - accuracy: 0.9746\n",
      "Epoch 69/100\n",
      "600/600 [==============================] - 0s 765us/step - loss: 0.0947 - accuracy: 0.9747\n",
      "Epoch 70/100\n",
      "600/600 [==============================] - 0s 759us/step - loss: 0.0908 - accuracy: 0.9758\n",
      "Epoch 71/100\n",
      "600/600 [==============================] - 0s 762us/step - loss: 0.0862 - accuracy: 0.9770\n",
      "Epoch 72/100\n",
      "600/600 [==============================] - 0s 765us/step - loss: 0.0864 - accuracy: 0.9771\n",
      "Epoch 73/100\n",
      "600/600 [==============================] - 0s 769us/step - loss: 0.0894 - accuracy: 0.9752\n",
      "Epoch 74/100\n",
      "600/600 [==============================] - 0s 774us/step - loss: 0.0850 - accuracy: 0.9780\n",
      "Epoch 75/100\n",
      "600/600 [==============================] - 0s 769us/step - loss: 0.0857 - accuracy: 0.9767\n",
      "Epoch 76/100\n",
      "600/600 [==============================] - 0s 767us/step - loss: 0.0851 - accuracy: 0.9773\n",
      "Epoch 77/100\n",
      "600/600 [==============================] - 0s 768us/step - loss: 0.0862 - accuracy: 0.9770\n",
      "Epoch 78/100\n",
      "600/600 [==============================] - 0s 772us/step - loss: 0.0881 - accuracy: 0.9764\n",
      "Epoch 79/100\n",
      "600/600 [==============================] - 0s 778us/step - loss: 0.0835 - accuracy: 0.9781\n",
      "Epoch 80/100\n",
      "600/600 [==============================] - 0s 767us/step - loss: 0.0825 - accuracy: 0.9784\n",
      "Epoch 81/100\n",
      "600/600 [==============================] - 0s 769us/step - loss: 0.0800 - accuracy: 0.9790\n",
      "Epoch 82/100\n",
      "600/600 [==============================] - 0s 768us/step - loss: 0.0806 - accuracy: 0.9781\n",
      "Epoch 83/100\n",
      "600/600 [==============================] - 0s 767us/step - loss: 0.0815 - accuracy: 0.9789\n",
      "Epoch 84/100\n",
      "600/600 [==============================] - 0s 769us/step - loss: 0.0777 - accuracy: 0.9793\n",
      "Epoch 85/100\n",
      "600/600 [==============================] - 0s 766us/step - loss: 0.0783 - accuracy: 0.9793\n",
      "Epoch 86/100\n",
      "600/600 [==============================] - 0s 770us/step - loss: 0.0797 - accuracy: 0.9793\n",
      "Epoch 87/100\n",
      "600/600 [==============================] - 0s 771us/step - loss: 0.0775 - accuracy: 0.9797\n",
      "Epoch 88/100\n",
      "600/600 [==============================] - 0s 808us/step - loss: 0.0761 - accuracy: 0.9811\n",
      "Epoch 89/100\n",
      "600/600 [==============================] - 0s 821us/step - loss: 0.0781 - accuracy: 0.9791\n",
      "Epoch 90/100\n",
      "600/600 [==============================] - 0s 815us/step - loss: 0.0726 - accuracy: 0.9816\n",
      "Epoch 91/100\n",
      "600/600 [==============================] - 0s 797us/step - loss: 0.0744 - accuracy: 0.9808\n",
      "Epoch 92/100\n",
      "600/600 [==============================] - 0s 808us/step - loss: 0.0752 - accuracy: 0.9806\n",
      "Epoch 93/100\n",
      "600/600 [==============================] - 0s 793us/step - loss: 0.0768 - accuracy: 0.9806\n",
      "Epoch 94/100\n",
      "600/600 [==============================] - 0s 771us/step - loss: 0.0746 - accuracy: 0.9808\n",
      "Epoch 95/100\n",
      "600/600 [==============================] - 0s 763us/step - loss: 0.0768 - accuracy: 0.9802\n",
      "Epoch 96/100\n",
      "600/600 [==============================] - 0s 766us/step - loss: 0.0714 - accuracy: 0.9817\n",
      "Epoch 97/100\n",
      "600/600 [==============================] - 0s 769us/step - loss: 0.0744 - accuracy: 0.9804\n",
      "Epoch 98/100\n",
      "600/600 [==============================] - 0s 769us/step - loss: 0.0720 - accuracy: 0.9803\n",
      "Epoch 99/100\n",
      "600/600 [==============================] - 0s 767us/step - loss: 0.0719 - accuracy: 0.9809\n",
      "Epoch 100/100\n",
      "600/600 [==============================] - 0s 768us/step - loss: 0.0709 - accuracy: 0.9818\n"
     ]
    },
    {
     "data": {
      "text/plain": [
       "<tensorflow.python.keras.callbacks.History at 0x13ab2354190>"
      ]
     },
     "execution_count": 18,
     "metadata": {},
     "output_type": "execute_result"
    }
   ],
   "source": [
    "model.fit(X_train, Y_train, batch_size=batch_size, epochs=epochs, verbose=1) "
   ]
  },
  {
   "cell_type": "markdown",
   "metadata": {},
   "source": [
    "## 5. Evaluate the neural net"
   ]
  },
  {
   "cell_type": "code",
   "execution_count": 19,
   "metadata": {},
   "outputs": [
    {
     "name": "stdout",
     "output_type": "stream",
     "text": [
      "313/313 [==============================] - 0s 502us/step - loss: 0.1202 - accuracy: 0.9633\n",
      "Test accuracy: 0.9632999897003174\n"
     ]
    }
   ],
   "source": [
    "score = model.evaluate(X_test, Y_test, verbose=1) \n",
    "print('Test accuracy:', score[1]) "
   ]
  },
  {
   "cell_type": "markdown",
   "metadata": {},
   "source": [
    "## 6. Make predictions / classifications for unseen data"
   ]
  },
  {
   "cell_type": "code",
   "execution_count": 20,
   "metadata": {},
   "outputs": [
    {
     "data": {
      "text/plain": [
       "array([[2.2499098e-06, 9.0058893e-06, 2.1370495e-04, ..., 9.9944431e-01,\n",
       "        9.5456346e-07, 1.8858127e-05],\n",
       "       [5.1176903e-04, 3.5238878e-03, 9.8659480e-01, ..., 8.7109565e-06,\n",
       "        8.0965325e-04, 1.8214442e-06],\n",
       "       [3.3645546e-07, 9.9926156e-01, 2.7820151e-04, ..., 2.0082793e-04,\n",
       "        5.4758559e-05, 7.3311012e-06],\n",
       "       ...,\n",
       "       [1.4397752e-07, 3.3628774e-06, 1.4708672e-05, ..., 1.5689414e-04,\n",
       "        5.2107323e-04, 1.4624527e-03],\n",
       "       [5.8550877e-04, 3.0973942e-03, 3.8389757e-04, ..., 4.3055727e-05,\n",
       "        4.5891270e-02, 2.5504200e-05],\n",
       "       [9.0980575e-05, 1.6009022e-05, 4.2505338e-04, ..., 1.7255367e-06,\n",
       "        3.0155705e-05, 3.3327713e-06]], dtype=float32)"
      ]
     },
     "execution_count": 20,
     "metadata": {},
     "output_type": "execute_result"
    }
   ],
   "source": [
    "#not yet until we enhanced the results\n",
    "predictions = model.predict(X_test)\n",
    "predictions"
   ]
  },
  {
   "cell_type": "markdown",
   "metadata": {},
   "source": [
    "<hr>"
   ]
  },
  {
   "cell_type": "markdown",
   "metadata": {},
   "source": [
    "# To see what the network has learned, we can visualize the weights of the hidden layer. "
   ]
  },
  {
   "cell_type": "code",
   "execution_count": 21,
   "metadata": {},
   "outputs": [],
   "source": [
    "weights = model.layers[0].get_weights() "
   ]
  },
  {
   "cell_type": "code",
   "execution_count": 22,
   "metadata": {},
   "outputs": [
    {
     "data": {
      "image/png": "[encoded data removed]",
      "text/plain": [
       "<Figure size 432x288 with 100 Axes>"
      ]
     },
     "metadata": {
      "needs_background": "light"
     },
     "output_type": "display_data"
    }
   ],
   "source": [
    "import matplotlib.pyplot as plt\n",
    "import matplotlib.cm as cm\n",
    "import numpy\n",
    "\n",
    "fig = plt.figure()\n",
    "\n",
    "w = weights[0].T\n",
    "for neuron in range(hidden_neurons):\n",
    " ax = fig.add_subplot(10, 10, neuron + 1)\n",
    " ax.axis(\"off\")\n",
    " ax.imshow(numpy.reshape(w[neuron], (28, 28)), cmap=cm.Greys_r)\n",
    "\n",
    "plt.savefig(\"neuron_images.png\", dpi=300)\n",
    "plt.show()\n",
    "\n"
   ]
  },
  {
   "cell_type": "markdown",
   "metadata": {},
   "source": [
    "<p> For simplicity, we've aggregated the images of all neurons in a single figure that represents a composite of all neurons. Clearly, since the initial images are very small and do not have lots of details (they are just digits), the features learned by the hidden neurons are not all that interesting. But it's already clear that each neuron is learning a different shape.\n",
    "\n"
   ]
  }
 ],
 "metadata": {
  "kernelspec": {
   "display_name": "Python 3 (ipykernel)",
   "language": "python",
   "name": "python3"
  },
  "language_info": {
   "codemirror_mode": {
    "name": "ipython",
    "version": 3
   },
   "file_extension": ".py",
   "mimetype": "text/x-python",
   "name": "python",
   "nbconvert_exporter": "python",
   "pygments_lexer": "ipython3",
   "version": "3.10.9"
  }
 },
 "nbformat": 4,
 "nbformat_minor": 4
}
